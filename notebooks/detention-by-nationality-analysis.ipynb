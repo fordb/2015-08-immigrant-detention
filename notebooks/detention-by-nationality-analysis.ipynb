{
 "cells": [
  {
   "cell_type": "markdown",
   "metadata": {},
   "source": [
    "# Detention By Nationality Analysis\n",
    "\n",
    "The full methodology for this analysis is available [here](../methodology.md)."
   ]
  },
  {
   "cell_type": "markdown",
   "metadata": {},
   "source": [
    "## Load the data"
   ]
  },
  {
   "cell_type": "code",
   "execution_count": 2,
   "metadata": {
    "collapsed": false
   },
   "outputs": [],
   "source": [
    "import pandas as pd\n",
    "import sys\n",
    "sys.path.append(\"../utils\")\n",
    "import loaders"
   ]
  },
  {
   "cell_type": "markdown",
   "metadata": {},
   "source": [
    "*Note: loaders is a custom module to handle basic data-loading. It is available [here](https://github.com/BuzzFeedNews/2015-08-immigration/blob/master/utils/loaders.py).*"
   ]
  },
  {
   "cell_type": "code",
   "execution_count": 7,
   "metadata": {
    "collapsed": false
   },
   "outputs": [],
   "source": [
    "first_scheduled_proceeding = pd.read_csv(\"../data/first-scheduled-proceeding.csv\", \n",
    "     parse_dates=[\"ADJ_DATE\"],\n",
    "     dtype={\n",
    "          \"IDNCASE\": str,\n",
    "          \"IDNPROCEEDING\": str,\n",
    "     },\n",
    "     encoding='latin1'\n",
    ")"
   ]
  },
  {
   "cell_type": "markdown",
   "metadata": {},
   "source": [
    "*Note: first-scheduled-proceeding.csv is a pre-processed data file. The code to create that file from tbl_schedule.csv is available [here](../utils/generate-first-scheduled-proceeding.py).*"
   ]
  },
  {
   "cell_type": "code",
   "execution_count": 27,
   "metadata": {
    "collapsed": false
   },
   "outputs": [
    {
     "name": "stderr",
     "output_type": "stream",
     "text": [
      "/var/folders/1g/crb4nhbs103_dd6qrzt577x80000gn/T/ipykernel_31227/2219749348.py:1: FutureWarning: The error_bad_lines argument has been deprecated and will be removed in a future version.\n",
      "\n",
      "\n",
      "  nationality_table = loaders.load_file(\"tblLookupNationality.csv\")\n"
     ]
    }
   ],
   "source": [
    "nationality_table = loaders.load_file(\"tblLookupNationality.csv\")"
   ]
  },
  {
   "cell_type": "code",
   "execution_count": 4,
   "metadata": {
    "collapsed": false
   },
   "outputs": [],
   "source": [
    "case_date_list = [\n",
    "    \"E_28_DATE\",\n",
    "    \"DATE_OF_ENTRY\",\n",
    "    \"C_BIRTHDATE\",\n",
    "    \"C_RELEASE_DATE\",\n",
    "    \"DATE_DETAINED\",\n",
    "    \"DATE_RELEASED\"\n",
    "]"
   ]
  },
  {
   "cell_type": "code",
   "execution_count": 5,
   "metadata": {
    "collapsed": false
   },
   "outputs": [
    {
     "name": "stderr",
     "output_type": "stream",
     "text": [
      "/var/folders/1g/crb4nhbs103_dd6qrzt577x80000gn/T/ipykernel_31227/2101931097.py:1: FutureWarning: The error_bad_lines argument has been deprecated and will be removed in a future version.\n",
      "\n",
      "\n",
      "  _cases = loaders.load_file(\"A_tblCase.csv\",\n"
     ]
    }
   ],
   "source": [
    "_cases = loaders.load_file(\"A_tblCase.csv\",\n",
    "    parse_dates=case_date_list,\n",
    "    dtype={\n",
    "        \"IDNCASE\": str\n",
    "    },\n",
    ")"
   ]
  },
  {
   "cell_type": "code",
   "execution_count": 8,
   "metadata": {
    "collapsed": false
   },
   "outputs": [],
   "source": [
    "_cases[\"GENDER\"] = _cases[\"GENDER\"].fillna(\"UNK\")"
   ]
  },
  {
   "cell_type": "code",
   "execution_count": 9,
   "metadata": {
    "collapsed": false
   },
   "outputs": [
    {
     "name": "stderr",
     "output_type": "stream",
     "text": [
      "/var/folders/1g/crb4nhbs103_dd6qrzt577x80000gn/T/ipykernel_31227/553268753.py:1: FutureWarning: The error_bad_lines argument has been deprecated and will be removed in a future version.\n",
      "\n",
      "\n",
      "  _charges = loaders.load_file(\"B_tblProceedCharges.csv\",\n",
      "b'Skipping line 1165848: expected 5 fields, saw 6\\n'\n",
      "b'Skipping line 1433634: expected 5 fields, saw 6\\n'\n",
      "b'Skipping line 2646392: expected 5 fields, saw 6\\n'\n",
      "b'Skipping line 2847501: expected 5 fields, saw 6\\n'\n",
      "b'Skipping line 2947399: expected 5 fields, saw 6\\n'\n",
      "b'Skipping line 3131015: expected 5 fields, saw 6\\n'\n"
     ]
    }
   ],
   "source": [
    "_charges = loaders.load_file(\"B_tblProceedCharges.csv\",\n",
    "    dtype={ \"IDNCASE\": str, \"IDNPROCEEDING\": str })"
   ]
  },
  {
   "cell_type": "markdown",
   "metadata": {},
   "source": [
    "*Note: Six rows — of the more than 8 million total rows — in the charges table contain malformed data stemming from extra tab characters, triggering the warning messages above.*"
   ]
  },
  {
   "cell_type": "markdown",
   "metadata": {},
   "source": [
    "## Process the data\n",
    "\n",
    "Join the various tables and prepare them for analysis."
   ]
  },
  {
   "cell_type": "code",
   "execution_count": 10,
   "metadata": {
    "collapsed": false
   },
   "outputs": [],
   "source": [
    "charges_group = _charges.groupby([ \"IDNCASE\", \"IDNPROCEEDING\" ])"
   ]
  },
  {
   "cell_type": "code",
   "execution_count": 11,
   "metadata": {
    "collapsed": false
   },
   "outputs": [],
   "source": [
    "charge_lists = pd.DataFrame({\n",
    "    \"charge_list\": charges_group[\"CHARGE\"].apply(\"|\".join)\n",
    "}).reset_index()"
   ]
  },
  {
   "cell_type": "code",
   "execution_count": 12,
   "metadata": {
    "collapsed": false
   },
   "outputs": [
    {
     "data": {
      "text/html": [
       "<div>\n",
       "<style scoped>\n",
       "    .dataframe tbody tr th:only-of-type {\n",
       "        vertical-align: middle;\n",
       "    }\n",
       "\n",
       "    .dataframe tbody tr th {\n",
       "        vertical-align: top;\n",
       "    }\n",
       "\n",
       "    .dataframe thead th {\n",
       "        text-align: right;\n",
       "    }\n",
       "</style>\n",
       "<table border=\"1\" class=\"dataframe\">\n",
       "  <thead>\n",
       "    <tr style=\"text-align: right;\">\n",
       "      <th></th>\n",
       "      <th>IDNCASE</th>\n",
       "      <th>IDNPROCEEDING</th>\n",
       "      <th>charge_list</th>\n",
       "    </tr>\n",
       "  </thead>\n",
       "  <tbody>\n",
       "    <tr>\n",
       "      <th>0</th>\n",
       "      <td>2046920</td>\n",
       "      <td>3200048</td>\n",
       "      <td>212a06Ai</td>\n",
       "    </tr>\n",
       "    <tr>\n",
       "      <th>1</th>\n",
       "      <td>2046921</td>\n",
       "      <td>3200049</td>\n",
       "      <td>212a06Ai</td>\n",
       "    </tr>\n",
       "    <tr>\n",
       "      <th>2</th>\n",
       "      <td>2046922</td>\n",
       "      <td>3200050</td>\n",
       "      <td>212a06Ai</td>\n",
       "    </tr>\n",
       "    <tr>\n",
       "      <th>3</th>\n",
       "      <td>2046923</td>\n",
       "      <td>3200051</td>\n",
       "      <td>212a06Ci</td>\n",
       "    </tr>\n",
       "    <tr>\n",
       "      <th>4</th>\n",
       "      <td>2046923</td>\n",
       "      <td>3525150</td>\n",
       "      <td>212a06Ci</td>\n",
       "    </tr>\n",
       "  </tbody>\n",
       "</table>\n",
       "</div>"
      ],
      "text/plain": [
       "   IDNCASE IDNPROCEEDING    charge_list\n",
       "0  2046920       3200048  212a06Ai     \n",
       "1  2046921       3200049  212a06Ai     \n",
       "2  2046922       3200050  212a06Ai     \n",
       "3  2046923       3200051  212a06Ci     \n",
       "4  2046923       3525150       212a06Ci"
      ]
     },
     "execution_count": 12,
     "metadata": {},
     "output_type": "execute_result"
    }
   ],
   "source": [
    "charge_lists.head()"
   ]
  },
  {
   "cell_type": "code",
   "execution_count": 13,
   "metadata": {
    "collapsed": false
   },
   "outputs": [],
   "source": [
    "assert(charge_lists[\"IDNCASE\"].nunique() == 5033293)\n",
    "assert(len(first_scheduled_proceeding) == 5045511)"
   ]
  },
  {
   "cell_type": "markdown",
   "metadata": {},
   "source": [
    "From the numbers above: A small fraction of cases — approximately 0.2% — have a scheduled proceding but no charges."
   ]
  },
  {
   "cell_type": "code",
   "execution_count": 14,
   "metadata": {
    "collapsed": false
   },
   "outputs": [],
   "source": [
    "cases_with_first_proceeding = first_scheduled_proceeding\\\n",
    "    .merge(charge_lists, how=\"left\", on=[ \"IDNCASE\", \"IDNPROCEEDING\" ])\\\n",
    "    .merge(_cases, how=\"left\", on=\"IDNCASE\", suffixes=[\"_schedule\", \"_case\"])"
   ]
  },
  {
   "cell_type": "markdown",
   "metadata": {},
   "source": [
    "Legal representatives file the EOIR-28 form to notify the court of their representation for a given immigrant.\n",
    "\n",
    "`ADJ_DATE` in this table indicates the date of the case's first proceeding."
   ]
  },
  {
   "cell_type": "code",
   "execution_count": 15,
   "metadata": {
    "collapsed": false
   },
   "outputs": [],
   "source": [
    "cases_with_first_proceeding[\"legal_rep_at_first_proceeding\"] = cases_with_first_proceeding\\\n",
    "    .apply(lambda x: x[\"E_28_DATE\"] <= x[\"ADJ_DATE\"], axis=1)"
   ]
  },
  {
   "cell_type": "markdown",
   "metadata": {},
   "source": [
    "## Select non-criminal removal cases between Jan. 1, 2003 and Jan. 1, 2015"
   ]
  },
  {
   "cell_type": "code",
   "execution_count": 185,
   "metadata": {
    "collapsed": false
   },
   "outputs": [
    {
     "ename": "KeyboardInterrupt",
     "evalue": "",
     "output_type": "error",
     "traceback": [
      "\u001b[0;31m---------------------------------------------------------------------------\u001b[0m",
      "\u001b[0;31mKeyboardInterrupt\u001b[0m                         Traceback (most recent call last)",
      "\u001b[1;32m/Users/ford/git/2015-08-immigrant-detention/notebooks/detention-by-nationality-analysis.ipynb Cell 23'\u001b[0m in \u001b[0;36m<cell line: 1>\u001b[0;34m()\u001b[0m\n\u001b[0;32m----> <a href='vscode-notebook-cell:/Users/ford/git/2015-08-immigrant-detention/notebooks/detention-by-nationality-analysis.ipynb#ch0000022?line=0'>1</a>\u001b[0m selected_cases \u001b[39m=\u001b[39m cases_with_first_proceeding[\n\u001b[1;32m      <a href='vscode-notebook-cell:/Users/ford/git/2015-08-immigrant-detention/notebooks/detention-by-nationality-analysis.ipynb#ch0000022?line=1'>2</a>\u001b[0m      \u001b[39m# Select cases with first-scheduled-hearing dates in 2003–2014\u001b[39;49;00m\n\u001b[1;32m      <a href='vscode-notebook-cell:/Users/ford/git/2015-08-immigrant-detention/notebooks/detention-by-nationality-analysis.ipynb#ch0000022?line=2'>3</a>\u001b[0m     (cases_with_first_proceeding[\u001b[39m\"\u001b[39;49m\u001b[39mADJ_DATE\u001b[39;49m\u001b[39m\"\u001b[39;49m] \u001b[39m>\u001b[39;49m\u001b[39m=\u001b[39;49m \u001b[39m\"\u001b[39;49m\u001b[39m2003-01-01\u001b[39;49m\u001b[39m\"\u001b[39;49m) \u001b[39m&\u001b[39;49m\n\u001b[1;32m      <a href='vscode-notebook-cell:/Users/ford/git/2015-08-immigrant-detention/notebooks/detention-by-nationality-analysis.ipynb#ch0000022?line=3'>4</a>\u001b[0m     (cases_with_first_proceeding[\u001b[39m\"\u001b[39;49m\u001b[39mADJ_DATE\u001b[39;49m\u001b[39m\"\u001b[39;49m] \u001b[39m<\u001b[39;49m \u001b[39m\"\u001b[39;49m\u001b[39m2015-01-01\u001b[39;49m\u001b[39m\"\u001b[39;49m)\n\u001b[1;32m      <a href='vscode-notebook-cell:/Users/ford/git/2015-08-immigrant-detention/notebooks/detention-by-nationality-analysis.ipynb#ch0000022?line=4'>5</a>\u001b[0m ]\u001b[39m.\u001b[39;49mcopy()\n",
      "File \u001b[0;32m/opt/miniconda3/lib/python3.8/site-packages/pandas/core/generic.py:5924\u001b[0m, in \u001b[0;36mNDFrame.copy\u001b[0;34m(self, deep)\u001b[0m\n\u001b[1;32m   <a href='file:///opt/miniconda3/lib/python3.8/site-packages/pandas/core/generic.py?line=5817'>5818</a>\u001b[0m \u001b[39m@final\u001b[39m\n\u001b[1;32m   <a href='file:///opt/miniconda3/lib/python3.8/site-packages/pandas/core/generic.py?line=5818'>5819</a>\u001b[0m \u001b[39mdef\u001b[39;00m \u001b[39mcopy\u001b[39m(\u001b[39mself\u001b[39m: FrameOrSeries, deep: bool_t \u001b[39m=\u001b[39m \u001b[39mTrue\u001b[39;00m) \u001b[39m-\u001b[39m\u001b[39m>\u001b[39m FrameOrSeries:\n\u001b[1;32m   <a href='file:///opt/miniconda3/lib/python3.8/site-packages/pandas/core/generic.py?line=5819'>5820</a>\u001b[0m     \u001b[39m\"\"\"\u001b[39;00m\n\u001b[1;32m   <a href='file:///opt/miniconda3/lib/python3.8/site-packages/pandas/core/generic.py?line=5820'>5821</a>\u001b[0m \u001b[39m    Make a copy of this object's indices and data.\u001b[39;00m\n\u001b[1;32m   <a href='file:///opt/miniconda3/lib/python3.8/site-packages/pandas/core/generic.py?line=5821'>5822</a>\u001b[0m \n\u001b[0;32m   (...)\u001b[0m\n\u001b[1;32m   <a href='file:///opt/miniconda3/lib/python3.8/site-packages/pandas/core/generic.py?line=5921'>5922</a>\u001b[0m \u001b[39m    dtype: object\u001b[39;00m\n\u001b[1;32m   <a href='file:///opt/miniconda3/lib/python3.8/site-packages/pandas/core/generic.py?line=5922'>5923</a>\u001b[0m \u001b[39m    \"\"\"\u001b[39;00m\n\u001b[0;32m-> <a href='file:///opt/miniconda3/lib/python3.8/site-packages/pandas/core/generic.py?line=5923'>5924</a>\u001b[0m     data \u001b[39m=\u001b[39m \u001b[39mself\u001b[39;49m\u001b[39m.\u001b[39;49m_mgr\u001b[39m.\u001b[39;49mcopy(deep\u001b[39m=\u001b[39;49mdeep)\n\u001b[1;32m   <a href='file:///opt/miniconda3/lib/python3.8/site-packages/pandas/core/generic.py?line=5924'>5925</a>\u001b[0m     \u001b[39mself\u001b[39m\u001b[39m.\u001b[39m_clear_item_cache()\n\u001b[1;32m   <a href='file:///opt/miniconda3/lib/python3.8/site-packages/pandas/core/generic.py?line=5925'>5926</a>\u001b[0m     \u001b[39mreturn\u001b[39;00m \u001b[39mself\u001b[39m\u001b[39m.\u001b[39m_constructor(data)\u001b[39m.\u001b[39m__finalize__(\u001b[39mself\u001b[39m, method\u001b[39m=\u001b[39m\u001b[39m\"\u001b[39m\u001b[39mcopy\u001b[39m\u001b[39m\"\u001b[39m)\n",
      "File \u001b[0;32m/opt/miniconda3/lib/python3.8/site-packages/pandas/core/internals/managers.py:595\u001b[0m, in \u001b[0;36mBaseBlockManager.copy\u001b[0;34m(self, deep)\u001b[0m\n\u001b[1;32m    <a href='file:///opt/miniconda3/lib/python3.8/site-packages/pandas/core/internals/managers.py?line=591'>592</a>\u001b[0m \u001b[39melse\u001b[39;00m:\n\u001b[1;32m    <a href='file:///opt/miniconda3/lib/python3.8/site-packages/pandas/core/internals/managers.py?line=592'>593</a>\u001b[0m     new_axes \u001b[39m=\u001b[39m \u001b[39mlist\u001b[39m(\u001b[39mself\u001b[39m\u001b[39m.\u001b[39maxes)\n\u001b[0;32m--> <a href='file:///opt/miniconda3/lib/python3.8/site-packages/pandas/core/internals/managers.py?line=594'>595</a>\u001b[0m res \u001b[39m=\u001b[39m \u001b[39mself\u001b[39;49m\u001b[39m.\u001b[39;49mapply(\u001b[39m\"\u001b[39;49m\u001b[39mcopy\u001b[39;49m\u001b[39m\"\u001b[39;49m, deep\u001b[39m=\u001b[39;49mdeep)\n\u001b[1;32m    <a href='file:///opt/miniconda3/lib/python3.8/site-packages/pandas/core/internals/managers.py?line=595'>596</a>\u001b[0m res\u001b[39m.\u001b[39maxes \u001b[39m=\u001b[39m new_axes\n\u001b[1;32m    <a href='file:///opt/miniconda3/lib/python3.8/site-packages/pandas/core/internals/managers.py?line=597'>598</a>\u001b[0m \u001b[39mif\u001b[39;00m deep:\n",
      "File \u001b[0;32m/opt/miniconda3/lib/python3.8/site-packages/pandas/core/internals/managers.py:327\u001b[0m, in \u001b[0;36mBaseBlockManager.apply\u001b[0;34m(self, f, align_keys, ignore_failures, **kwargs)\u001b[0m\n\u001b[1;32m    <a href='file:///opt/miniconda3/lib/python3.8/site-packages/pandas/core/internals/managers.py?line=324'>325</a>\u001b[0m         applied \u001b[39m=\u001b[39m b\u001b[39m.\u001b[39mapply(f, \u001b[39m*\u001b[39m\u001b[39m*\u001b[39mkwargs)\n\u001b[1;32m    <a href='file:///opt/miniconda3/lib/python3.8/site-packages/pandas/core/internals/managers.py?line=325'>326</a>\u001b[0m     \u001b[39melse\u001b[39;00m:\n\u001b[0;32m--> <a href='file:///opt/miniconda3/lib/python3.8/site-packages/pandas/core/internals/managers.py?line=326'>327</a>\u001b[0m         applied \u001b[39m=\u001b[39m \u001b[39mgetattr\u001b[39;49m(b, f)(\u001b[39m*\u001b[39;49m\u001b[39m*\u001b[39;49mkwargs)\n\u001b[1;32m    <a href='file:///opt/miniconda3/lib/python3.8/site-packages/pandas/core/internals/managers.py?line=327'>328</a>\u001b[0m \u001b[39mexcept\u001b[39;00m (\u001b[39mTypeError\u001b[39;00m, \u001b[39mNotImplementedError\u001b[39;00m):\n\u001b[1;32m    <a href='file:///opt/miniconda3/lib/python3.8/site-packages/pandas/core/internals/managers.py?line=328'>329</a>\u001b[0m     \u001b[39mif\u001b[39;00m \u001b[39mnot\u001b[39;00m ignore_failures:\n",
      "File \u001b[0;32m/opt/miniconda3/lib/python3.8/site-packages/pandas/core/internals/blocks.py:651\u001b[0m, in \u001b[0;36mBlock.copy\u001b[0;34m(self, deep)\u001b[0m\n\u001b[1;32m    <a href='file:///opt/miniconda3/lib/python3.8/site-packages/pandas/core/internals/blocks.py?line=648'>649</a>\u001b[0m values \u001b[39m=\u001b[39m \u001b[39mself\u001b[39m\u001b[39m.\u001b[39mvalues\n\u001b[1;32m    <a href='file:///opt/miniconda3/lib/python3.8/site-packages/pandas/core/internals/blocks.py?line=649'>650</a>\u001b[0m \u001b[39mif\u001b[39;00m deep:\n\u001b[0;32m--> <a href='file:///opt/miniconda3/lib/python3.8/site-packages/pandas/core/internals/blocks.py?line=650'>651</a>\u001b[0m     values \u001b[39m=\u001b[39m values\u001b[39m.\u001b[39;49mcopy()\n\u001b[1;32m    <a href='file:///opt/miniconda3/lib/python3.8/site-packages/pandas/core/internals/blocks.py?line=651'>652</a>\u001b[0m \u001b[39mreturn\u001b[39;00m \u001b[39mself\u001b[39m\u001b[39m.\u001b[39mmake_block_same_class(values)\n",
      "\u001b[0;31mKeyboardInterrupt\u001b[0m: "
     ]
    }
   ],
   "source": [
    "selected_cases = cases_with_first_proceeding[\n",
    "     # Select cases with first-scheduled-hearing dates in 2003–2014\n",
    "    (cases_with_first_proceeding[\"ADJ_DATE\"] >= \"2003-01-01\") &\n",
    "    (cases_with_first_proceeding[\"ADJ_DATE\"] < \"2015-01-01\")\n",
    "].copy()"
   ]
  },
  {
   "cell_type": "code",
   "execution_count": null,
   "metadata": {
    "collapsed": true
   },
   "outputs": [],
   "source": [
    "selected_cases[\"has_criminal_charge\"] = (\n",
    "    selected_cases[\"charge_list\"].str.contains(\"237a02\") |\n",
    "    selected_cases[\"charge_list\"].str.contains(\"212a02\")\n",
    ")"
   ]
  },
  {
   "cell_type": "code",
   "execution_count": null,
   "metadata": {
    "collapsed": false
   },
   "outputs": [],
   "source": [
    "selected_cases[\"detained\"] = selected_cases[\"CUSTODY\"].map({\"N\": 0, \"D\": 1, \"R\": 1})"
   ]
  },
  {
   "cell_type": "code",
   "execution_count": null,
   "metadata": {},
   "outputs": [],
   "source": [
    "selected_cases['year'] = pd.DatetimeIndex(selected_cases[\"ADJ_DATE\"]).year"
   ]
  },
  {
   "cell_type": "markdown",
   "metadata": {},
   "source": [
    "## Calculate detention rates by nationality"
   ]
  },
  {
   "cell_type": "code",
   "execution_count": 197,
   "metadata": {
    "collapsed": false
   },
   "outputs": [],
   "source": [
    "custody_by_nationality = selected_cases.groupby([\"NAT\", \"year\", \"CUSTODY\", \"has_criminal_charge\"])\\\n",
    "    .size()\\\n",
    "    .unstack()\\\n",
    "    .unstack()\\\n",
    "    .fillna(0)"
   ]
  },
  {
   "cell_type": "code",
   "execution_count": 198,
   "metadata": {},
   "outputs": [],
   "source": [
    "def column_map(col):\n",
    "    if col[0]:\n",
    "        return f'{col[1]}_criminal'\n",
    "    else:\n",
    "        return f'{col[1]}_noncriminal'"
   ]
  },
  {
   "cell_type": "code",
   "execution_count": 199,
   "metadata": {},
   "outputs": [],
   "source": [
    "custody_by_nationality.columns = [column_map(col) for col in custody_by_nationality.columns]"
   ]
  },
  {
   "cell_type": "code",
   "execution_count": 200,
   "metadata": {},
   "outputs": [],
   "source": [
    "custody_by_nationality = custody_by_nationality.reset_index()"
   ]
  },
  {
   "cell_type": "code",
   "execution_count": 201,
   "metadata": {
    "collapsed": false
   },
   "outputs": [],
   "source": [
    "custody_by_nationality[\"total_criminal\"] = custody_by_nationality[['N_criminal', 'D_criminal', 'R_criminal']].sum(axis=1)\n",
    "custody_by_nationality[\"total_noncriminal\"] = custody_by_nationality[['N_noncriminal', 'D_noncriminal', 'R_noncriminal']].sum(axis=1)"
   ]
  },
  {
   "cell_type": "code",
   "execution_count": 202,
   "metadata": {
    "collapsed": false
   },
   "outputs": [],
   "source": [
    "custody_by_nationality[\"percent_detained_criminal\"] = custody_by_nationality\\\n",
    "    .apply(lambda x: None if x['total_criminal'] == 0 else round(100.0 * (x[\"D_criminal\"] + x[\"R_criminal\"]) / x[\"total_criminal\"], 1), axis=1)\n",
    "\n",
    "custody_by_nationality[\"percent_detained_noncriminal\"] = custody_by_nationality\\\n",
    "    .apply(lambda x: None if x['total_noncriminal'] == 0 else round(100.0 * (x[\"D_noncriminal\"] + x[\"R_noncriminal\"]) / x[\"total_noncriminal\"], 1), axis=1)"
   ]
  },
  {
   "cell_type": "code",
   "execution_count": 203,
   "metadata": {
    "collapsed": false
   },
   "outputs": [],
   "source": [
    "# Add full country names\n",
    "custody_by_nationality = pd.merge(\n",
    "    custody_by_nationality,\n",
    "    nationality_table[['NAT_CODE', 'NAT_NAME']],\n",
    "    how='left',\n",
    "    left_on=['NAT'],\n",
    "    right_on=['NAT_CODE'],\n",
    ")"
   ]
  },
  {
   "cell_type": "code",
   "execution_count": 207,
   "metadata": {
    "collapsed": false
   },
   "outputs": [],
   "source": [
    "main_columns = [\"NAT_NAME\", \"year\",\\\n",
    "    \"N_criminal\", \"D_criminal\", \"R_criminal\", \"total_criminal\", \"percent_detained_criminal\",\n",
    "    \"N_noncriminal\", \"D_noncriminal\", \"R_noncriminal\", \"total_noncriminal\", \"percent_detained_noncriminal\",\n",
    "]\n",
    "custody_by_nationality = custody_by_nationality.sort_values([\"NAT_NAME\", \"year\"])[main_columns]"
   ]
  },
  {
   "cell_type": "markdown",
   "metadata": {},
   "source": [
    "## Table: Per-Nationality Detention Rate"
   ]
  },
  {
   "cell_type": "code",
   "execution_count": 208,
   "metadata": {
    "collapsed": false
   },
   "outputs": [
    {
     "data": {
      "text/html": [
       "<div>\n",
       "<style scoped>\n",
       "    .dataframe tbody tr th:only-of-type {\n",
       "        vertical-align: middle;\n",
       "    }\n",
       "\n",
       "    .dataframe tbody tr th {\n",
       "        vertical-align: top;\n",
       "    }\n",
       "\n",
       "    .dataframe thead th {\n",
       "        text-align: right;\n",
       "    }\n",
       "</style>\n",
       "<table border=\"1\" class=\"dataframe\">\n",
       "  <thead>\n",
       "    <tr style=\"text-align: right;\">\n",
       "      <th></th>\n",
       "      <th>NAT_NAME</th>\n",
       "      <th>year</th>\n",
       "      <th>N_criminal</th>\n",
       "      <th>D_criminal</th>\n",
       "      <th>R_criminal</th>\n",
       "      <th>total_criminal</th>\n",
       "      <th>percent_detained_criminal</th>\n",
       "      <th>N_noncriminal</th>\n",
       "      <th>D_noncriminal</th>\n",
       "      <th>R_noncriminal</th>\n",
       "      <th>total_noncriminal</th>\n",
       "      <th>percent_detained_noncriminal</th>\n",
       "    </tr>\n",
       "  </thead>\n",
       "  <tbody>\n",
       "    <tr>\n",
       "      <th>38</th>\n",
       "      <td>AFGHANISTAN</td>\n",
       "      <td>2003</td>\n",
       "      <td>10.0</td>\n",
       "      <td>26.0</td>\n",
       "      <td>13.0</td>\n",
       "      <td>49.0</td>\n",
       "      <td>79.6</td>\n",
       "      <td>102.0</td>\n",
       "      <td>5.0</td>\n",
       "      <td>14.0</td>\n",
       "      <td>121.0</td>\n",
       "      <td>15.7</td>\n",
       "    </tr>\n",
       "    <tr>\n",
       "      <th>39</th>\n",
       "      <td>AFGHANISTAN</td>\n",
       "      <td>2004</td>\n",
       "      <td>10.0</td>\n",
       "      <td>31.0</td>\n",
       "      <td>1.0</td>\n",
       "      <td>42.0</td>\n",
       "      <td>76.2</td>\n",
       "      <td>64.0</td>\n",
       "      <td>20.0</td>\n",
       "      <td>7.0</td>\n",
       "      <td>91.0</td>\n",
       "      <td>29.7</td>\n",
       "    </tr>\n",
       "    <tr>\n",
       "      <th>40</th>\n",
       "      <td>AFGHANISTAN</td>\n",
       "      <td>2005</td>\n",
       "      <td>5.0</td>\n",
       "      <td>33.0</td>\n",
       "      <td>3.0</td>\n",
       "      <td>41.0</td>\n",
       "      <td>87.8</td>\n",
       "      <td>34.0</td>\n",
       "      <td>4.0</td>\n",
       "      <td>8.0</td>\n",
       "      <td>46.0</td>\n",
       "      <td>26.1</td>\n",
       "    </tr>\n",
       "    <tr>\n",
       "      <th>41</th>\n",
       "      <td>AFGHANISTAN</td>\n",
       "      <td>2006</td>\n",
       "      <td>7.0</td>\n",
       "      <td>19.0</td>\n",
       "      <td>5.0</td>\n",
       "      <td>31.0</td>\n",
       "      <td>77.4</td>\n",
       "      <td>37.0</td>\n",
       "      <td>7.0</td>\n",
       "      <td>7.0</td>\n",
       "      <td>51.0</td>\n",
       "      <td>27.5</td>\n",
       "    </tr>\n",
       "    <tr>\n",
       "      <th>42</th>\n",
       "      <td>AFGHANISTAN</td>\n",
       "      <td>2007</td>\n",
       "      <td>3.0</td>\n",
       "      <td>27.0</td>\n",
       "      <td>4.0</td>\n",
       "      <td>34.0</td>\n",
       "      <td>91.2</td>\n",
       "      <td>47.0</td>\n",
       "      <td>6.0</td>\n",
       "      <td>4.0</td>\n",
       "      <td>57.0</td>\n",
       "      <td>17.5</td>\n",
       "    </tr>\n",
       "    <tr>\n",
       "      <th>...</th>\n",
       "      <td>...</td>\n",
       "      <td>...</td>\n",
       "      <td>...</td>\n",
       "      <td>...</td>\n",
       "      <td>...</td>\n",
       "      <td>...</td>\n",
       "      <td>...</td>\n",
       "      <td>...</td>\n",
       "      <td>...</td>\n",
       "      <td>...</td>\n",
       "      <td>...</td>\n",
       "      <td>...</td>\n",
       "    </tr>\n",
       "    <tr>\n",
       "      <th>0</th>\n",
       "      <td>NaN</td>\n",
       "      <td>2003</td>\n",
       "      <td>1.0</td>\n",
       "      <td>3.0</td>\n",
       "      <td>1.0</td>\n",
       "      <td>5.0</td>\n",
       "      <td>80.0</td>\n",
       "      <td>228.0</td>\n",
       "      <td>447.0</td>\n",
       "      <td>17.0</td>\n",
       "      <td>692.0</td>\n",
       "      <td>67.1</td>\n",
       "    </tr>\n",
       "    <tr>\n",
       "      <th>1</th>\n",
       "      <td>NaN</td>\n",
       "      <td>2004</td>\n",
       "      <td>0.0</td>\n",
       "      <td>3.0</td>\n",
       "      <td>0.0</td>\n",
       "      <td>3.0</td>\n",
       "      <td>100.0</td>\n",
       "      <td>118.0</td>\n",
       "      <td>206.0</td>\n",
       "      <td>9.0</td>\n",
       "      <td>333.0</td>\n",
       "      <td>64.6</td>\n",
       "    </tr>\n",
       "    <tr>\n",
       "      <th>1637</th>\n",
       "      <td>NaN</td>\n",
       "      <td>2005</td>\n",
       "      <td>0.0</td>\n",
       "      <td>1.0</td>\n",
       "      <td>0.0</td>\n",
       "      <td>1.0</td>\n",
       "      <td>100.0</td>\n",
       "      <td>0.0</td>\n",
       "      <td>0.0</td>\n",
       "      <td>0.0</td>\n",
       "      <td>0.0</td>\n",
       "      <td>NaN</td>\n",
       "    </tr>\n",
       "    <tr>\n",
       "      <th>2</th>\n",
       "      <td>NaN</td>\n",
       "      <td>2009</td>\n",
       "      <td>0.0</td>\n",
       "      <td>0.0</td>\n",
       "      <td>0.0</td>\n",
       "      <td>0.0</td>\n",
       "      <td>NaN</td>\n",
       "      <td>0.0</td>\n",
       "      <td>1.0</td>\n",
       "      <td>0.0</td>\n",
       "      <td>1.0</td>\n",
       "      <td>100.0</td>\n",
       "    </tr>\n",
       "    <tr>\n",
       "      <th>1638</th>\n",
       "      <td>NaN</td>\n",
       "      <td>2009</td>\n",
       "      <td>0.0</td>\n",
       "      <td>0.0</td>\n",
       "      <td>0.0</td>\n",
       "      <td>0.0</td>\n",
       "      <td>NaN</td>\n",
       "      <td>1.0</td>\n",
       "      <td>0.0</td>\n",
       "      <td>0.0</td>\n",
       "      <td>1.0</td>\n",
       "      <td>0.0</td>\n",
       "    </tr>\n",
       "  </tbody>\n",
       "</table>\n",
       "<p>2553 rows × 12 columns</p>\n",
       "</div>"
      ],
      "text/plain": [
       "         NAT_NAME  year  N_criminal  D_criminal  R_criminal  total_criminal  \\\n",
       "38    AFGHANISTAN  2003        10.0        26.0        13.0            49.0   \n",
       "39    AFGHANISTAN  2004        10.0        31.0         1.0            42.0   \n",
       "40    AFGHANISTAN  2005         5.0        33.0         3.0            41.0   \n",
       "41    AFGHANISTAN  2006         7.0        19.0         5.0            31.0   \n",
       "42    AFGHANISTAN  2007         3.0        27.0         4.0            34.0   \n",
       "...           ...   ...         ...         ...         ...             ...   \n",
       "0             NaN  2003         1.0         3.0         1.0             5.0   \n",
       "1             NaN  2004         0.0         3.0         0.0             3.0   \n",
       "1637          NaN  2005         0.0         1.0         0.0             1.0   \n",
       "2             NaN  2009         0.0         0.0         0.0             0.0   \n",
       "1638          NaN  2009         0.0         0.0         0.0             0.0   \n",
       "\n",
       "      percent_detained_criminal  N_noncriminal  D_noncriminal  R_noncriminal  \\\n",
       "38                         79.6          102.0            5.0           14.0   \n",
       "39                         76.2           64.0           20.0            7.0   \n",
       "40                         87.8           34.0            4.0            8.0   \n",
       "41                         77.4           37.0            7.0            7.0   \n",
       "42                         91.2           47.0            6.0            4.0   \n",
       "...                         ...            ...            ...            ...   \n",
       "0                          80.0          228.0          447.0           17.0   \n",
       "1                         100.0          118.0          206.0            9.0   \n",
       "1637                      100.0            0.0            0.0            0.0   \n",
       "2                           NaN            0.0            1.0            0.0   \n",
       "1638                        NaN            1.0            0.0            0.0   \n",
       "\n",
       "      total_noncriminal  percent_detained_noncriminal  \n",
       "38                121.0                          15.7  \n",
       "39                 91.0                          29.7  \n",
       "40                 46.0                          26.1  \n",
       "41                 51.0                          27.5  \n",
       "42                 57.0                          17.5  \n",
       "...                 ...                           ...  \n",
       "0                 692.0                          67.1  \n",
       "1                 333.0                          64.6  \n",
       "1637                0.0                           NaN  \n",
       "2                   1.0                         100.0  \n",
       "1638                1.0                           0.0  \n",
       "\n",
       "[2553 rows x 12 columns]"
      ]
     },
     "execution_count": 208,
     "metadata": {},
     "output_type": "execute_result"
    }
   ],
   "source": [
    "custody_by_nationality"
   ]
  },
  {
   "cell_type": "code",
   "execution_count": 209,
   "metadata": {},
   "outputs": [],
   "source": [
    "# save to output dataframe\n",
    "custody_by_nationality.to_csv(\"custody_by_nationality_year.csv\", index=False)"
   ]
  },
  {
   "cell_type": "code",
   "execution_count": null,
   "metadata": {},
   "outputs": [],
   "source": []
  }
 ],
 "metadata": {
  "interpreter": {
   "hash": "1304233b53c6a09342e56de51f78d3eae7e06249fc4ef5cc763f1a26d43de633"
  },
  "kernelspec": {
   "display_name": "Python 2",
   "language": "python",
   "name": "python3"
  },
  "language_info": {
   "codemirror_mode": {
    "name": "ipython",
    "version": 3
   },
   "file_extension": ".py",
   "mimetype": "text/x-python",
   "name": "python",
   "nbconvert_exporter": "python",
   "pygments_lexer": "ipython3",
   "version": "3.8.10"
  }
 },
 "nbformat": 4,
 "nbformat_minor": 0
}
