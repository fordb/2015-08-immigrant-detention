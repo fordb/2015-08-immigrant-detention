{
 "cells": [
  {
   "cell_type": "markdown",
   "metadata": {},
   "source": [
    "# Detention By Nationality Analysis\n",
    "\n",
    "The full methodology for this analysis is available [here](../methodology.md)."
   ]
  },
  {
   "cell_type": "markdown",
   "metadata": {},
   "source": [
    "## Load the data"
   ]
  },
  {
   "cell_type": "code",
   "execution_count": 2,
   "metadata": {
    "collapsed": false
   },
   "outputs": [],
   "source": [
    "import pandas as pd\n",
    "import sys\n",
    "sys.path.append(\"../utils\")\n",
    "import loaders"
   ]
  },
  {
   "cell_type": "markdown",
   "metadata": {},
   "source": [
    "*Note: loaders is a custom module to handle basic data-loading. It is available [here](https://github.com/BuzzFeedNews/2015-08-immigration/blob/master/utils/loaders.py).*"
   ]
  },
  {
   "cell_type": "code",
   "execution_count": 7,
   "metadata": {
    "collapsed": false
   },
   "outputs": [],
   "source": [
    "first_scheduled_proceeding = pd.read_csv(\"../data/first-scheduled-proceeding.csv\", \n",
    "     parse_dates=[\"ADJ_DATE\"],\n",
    "     dtype={\n",
    "          \"IDNCASE\": str,\n",
    "          \"IDNPROCEEDING\": str,\n",
    "     },\n",
    "     encoding='latin1'\n",
    ")"
   ]
  },
  {
   "cell_type": "markdown",
   "metadata": {},
   "source": [
    "*Note: first-scheduled-proceeding.csv is a pre-processed data file. The code to create that file from tbl_schedule.csv is available [here](../utils/generate-first-scheduled-proceeding.py).*"
   ]
  },
  {
   "cell_type": "code",
   "execution_count": 27,
   "metadata": {
    "collapsed": false
   },
   "outputs": [
    {
     "name": "stderr",
     "output_type": "stream",
     "text": [
      "/var/folders/1g/crb4nhbs103_dd6qrzt577x80000gn/T/ipykernel_31227/2219749348.py:1: FutureWarning: The error_bad_lines argument has been deprecated and will be removed in a future version.\n",
      "\n",
      "\n",
      "  nationality_table = loaders.load_file(\"tblLookupNationality.csv\")\n"
     ]
    }
   ],
   "source": [
    "nationality_table = loaders.load_file(\"tblLookupNationality.csv\")"
   ]
  },
  {
   "cell_type": "code",
   "execution_count": 4,
   "metadata": {
    "collapsed": false
   },
   "outputs": [],
   "source": [
    "case_date_list = [\n",
    "    \"E_28_DATE\",\n",
    "    \"DATE_OF_ENTRY\",\n",
    "    \"C_BIRTHDATE\",\n",
    "    \"C_RELEASE_DATE\",\n",
    "    \"DATE_DETAINED\",\n",
    "    \"DATE_RELEASED\"\n",
    "]"
   ]
  },
  {
   "cell_type": "code",
   "execution_count": 5,
   "metadata": {
    "collapsed": false
   },
   "outputs": [
    {
     "name": "stderr",
     "output_type": "stream",
     "text": [
      "/var/folders/1g/crb4nhbs103_dd6qrzt577x80000gn/T/ipykernel_31227/2101931097.py:1: FutureWarning: The error_bad_lines argument has been deprecated and will be removed in a future version.\n",
      "\n",
      "\n",
      "  _cases = loaders.load_file(\"A_tblCase.csv\",\n"
     ]
    }
   ],
   "source": [
    "_cases = loaders.load_file(\"A_tblCase.csv\",\n",
    "    parse_dates=case_date_list,\n",
    "    dtype={\n",
    "        \"IDNCASE\": str\n",
    "    },\n",
    ")"
   ]
  },
  {
   "cell_type": "code",
   "execution_count": 8,
   "metadata": {
    "collapsed": false
   },
   "outputs": [],
   "source": [
    "_cases[\"GENDER\"] = _cases[\"GENDER\"].fillna(\"UNK\")"
   ]
  },
  {
   "cell_type": "code",
   "execution_count": 9,
   "metadata": {
    "collapsed": false
   },
   "outputs": [
    {
     "name": "stderr",
     "output_type": "stream",
     "text": [
      "/var/folders/1g/crb4nhbs103_dd6qrzt577x80000gn/T/ipykernel_31227/553268753.py:1: FutureWarning: The error_bad_lines argument has been deprecated and will be removed in a future version.\n",
      "\n",
      "\n",
      "  _charges = loaders.load_file(\"B_tblProceedCharges.csv\",\n",
      "b'Skipping line 1165848: expected 5 fields, saw 6\\n'\n",
      "b'Skipping line 1433634: expected 5 fields, saw 6\\n'\n",
      "b'Skipping line 2646392: expected 5 fields, saw 6\\n'\n",
      "b'Skipping line 2847501: expected 5 fields, saw 6\\n'\n",
      "b'Skipping line 2947399: expected 5 fields, saw 6\\n'\n",
      "b'Skipping line 3131015: expected 5 fields, saw 6\\n'\n"
     ]
    }
   ],
   "source": [
    "_charges = loaders.load_file(\"B_tblProceedCharges.csv\",\n",
    "    dtype={ \"IDNCASE\": str, \"IDNPROCEEDING\": str })"
   ]
  },
  {
   "cell_type": "markdown",
   "metadata": {},
   "source": [
    "*Note: Six rows — of the more than 8 million total rows — in the charges table contain malformed data stemming from extra tab characters, triggering the warning messages above.*"
   ]
  },
  {
   "cell_type": "markdown",
   "metadata": {},
   "source": [
    "## Process the data\n",
    "\n",
    "Join the various tables and prepare them for analysis."
   ]
  },
  {
   "cell_type": "code",
   "execution_count": 10,
   "metadata": {
    "collapsed": false
   },
   "outputs": [],
   "source": [
    "charges_group = _charges.groupby([ \"IDNCASE\", \"IDNPROCEEDING\" ])"
   ]
  },
  {
   "cell_type": "code",
   "execution_count": 11,
   "metadata": {
    "collapsed": false
   },
   "outputs": [],
   "source": [
    "charge_lists = pd.DataFrame({\n",
    "    \"charge_list\": charges_group[\"CHARGE\"].apply(\"|\".join)\n",
    "}).reset_index()"
   ]
  },
  {
   "cell_type": "code",
   "execution_count": 12,
   "metadata": {
    "collapsed": false
   },
   "outputs": [
    {
     "data": {
      "text/html": [
       "<div>\n",
       "<style scoped>\n",
       "    .dataframe tbody tr th:only-of-type {\n",
       "        vertical-align: middle;\n",
       "    }\n",
       "\n",
       "    .dataframe tbody tr th {\n",
       "        vertical-align: top;\n",
       "    }\n",
       "\n",
       "    .dataframe thead th {\n",
       "        text-align: right;\n",
       "    }\n",
       "</style>\n",
       "<table border=\"1\" class=\"dataframe\">\n",
       "  <thead>\n",
       "    <tr style=\"text-align: right;\">\n",
       "      <th></th>\n",
       "      <th>IDNCASE</th>\n",
       "      <th>IDNPROCEEDING</th>\n",
       "      <th>charge_list</th>\n",
       "    </tr>\n",
       "  </thead>\n",
       "  <tbody>\n",
       "    <tr>\n",
       "      <th>0</th>\n",
       "      <td>2046920</td>\n",
       "      <td>3200048</td>\n",
       "      <td>212a06Ai</td>\n",
       "    </tr>\n",
       "    <tr>\n",
       "      <th>1</th>\n",
       "      <td>2046921</td>\n",
       "      <td>3200049</td>\n",
       "      <td>212a06Ai</td>\n",
       "    </tr>\n",
       "    <tr>\n",
       "      <th>2</th>\n",
       "      <td>2046922</td>\n",
       "      <td>3200050</td>\n",
       "      <td>212a06Ai</td>\n",
       "    </tr>\n",
       "    <tr>\n",
       "      <th>3</th>\n",
       "      <td>2046923</td>\n",
       "      <td>3200051</td>\n",
       "      <td>212a06Ci</td>\n",
       "    </tr>\n",
       "    <tr>\n",
       "      <th>4</th>\n",
       "      <td>2046923</td>\n",
       "      <td>3525150</td>\n",
       "      <td>212a06Ci</td>\n",
       "    </tr>\n",
       "  </tbody>\n",
       "</table>\n",
       "</div>"
      ],
      "text/plain": [
       "   IDNCASE IDNPROCEEDING    charge_list\n",
       "0  2046920       3200048  212a06Ai     \n",
       "1  2046921       3200049  212a06Ai     \n",
       "2  2046922       3200050  212a06Ai     \n",
       "3  2046923       3200051  212a06Ci     \n",
       "4  2046923       3525150       212a06Ci"
      ]
     },
     "execution_count": 12,
     "metadata": {},
     "output_type": "execute_result"
    }
   ],
   "source": [
    "charge_lists.head()"
   ]
  },
  {
   "cell_type": "code",
   "execution_count": 13,
   "metadata": {
    "collapsed": false
   },
   "outputs": [],
   "source": [
    "assert(charge_lists[\"IDNCASE\"].nunique() == 5033293)\n",
    "assert(len(first_scheduled_proceeding) == 5045511)"
   ]
  },
  {
   "cell_type": "markdown",
   "metadata": {},
   "source": [
    "From the numbers above: A small fraction of cases — approximately 0.2% — have a scheduled proceding but no charges."
   ]
  },
  {
   "cell_type": "code",
   "execution_count": 14,
   "metadata": {
    "collapsed": false
   },
   "outputs": [],
   "source": [
    "cases_with_first_proceeding = first_scheduled_proceeding\\\n",
    "    .merge(charge_lists, how=\"left\", on=[ \"IDNCASE\", \"IDNPROCEEDING\" ])\\\n",
    "    .merge(_cases, how=\"left\", on=\"IDNCASE\", suffixes=[\"_schedule\", \"_case\"])"
   ]
  },
  {
   "cell_type": "markdown",
   "metadata": {},
   "source": [
    "Legal representatives file the EOIR-28 form to notify the court of their representation for a given immigrant.\n",
    "\n",
    "`ADJ_DATE` in this table indicates the date of the case's first proceeding."
   ]
  },
  {
   "cell_type": "code",
   "execution_count": 15,
   "metadata": {
    "collapsed": false
   },
   "outputs": [],
   "source": [
    "cases_with_first_proceeding[\"legal_rep_at_first_proceeding\"] = cases_with_first_proceeding\\\n",
    "    .apply(lambda x: x[\"E_28_DATE\"] <= x[\"ADJ_DATE\"], axis=1)"
   ]
  },
  {
   "cell_type": "markdown",
   "metadata": {},
   "source": [
    "## Select non-criminal removal cases between Jan. 1, 2003 and Jan. 1, 2015"
   ]
  },
  {
   "cell_type": "code",
   "execution_count": 19,
   "metadata": {
    "collapsed": false
   },
   "outputs": [],
   "source": [
    "selected_cases = cases_with_first_proceeding[\n",
    "     # Select cases with first-scheduled-hearing dates in 2003–2014\n",
    "    (cases_with_first_proceeding[\"ADJ_DATE\"] >= \"2003-01-01\") &\n",
    "    (cases_with_first_proceeding[\"ADJ_DATE\"] < \"2015-01-01\")\n",
    "].copy()"
   ]
  },
  {
   "cell_type": "code",
   "execution_count": 20,
   "metadata": {
    "collapsed": true
   },
   "outputs": [],
   "source": [
    "selected_cases[\"has_criminal_charge\"] = (\n",
    "    selected_cases[\"charge_list\"].str.contains(\"237a02\") |\n",
    "    selected_cases[\"charge_list\"].str.contains(\"212a02\")\n",
    ")"
   ]
  },
  {
   "cell_type": "code",
   "execution_count": 21,
   "metadata": {
    "collapsed": false
   },
   "outputs": [],
   "source": [
    "selected_cases[\"detained\"] = selected_cases[\"CUSTODY\"].map({\"N\": 0, \"D\": 1, \"R\": 1})"
   ]
  },
  {
   "cell_type": "markdown",
   "metadata": {},
   "source": [
    "## Calculate detention rates by nationality"
   ]
  },
  {
   "cell_type": "code",
   "execution_count": 23,
   "metadata": {
    "collapsed": false
   },
   "outputs": [],
   "source": [
    "custody_by_nationality = selected_cases.groupby([\"NAT\", \"CUSTODY\"])\\\n",
    "    .size()\\\n",
    "    .unstack()\\\n",
    "    .fillna(0)"
   ]
  },
  {
   "cell_type": "code",
   "execution_count": 24,
   "metadata": {
    "collapsed": false
   },
   "outputs": [],
   "source": [
    "custody_by_nationality[\"total\"] = custody_by_nationality.sum(axis=1)"
   ]
  },
  {
   "cell_type": "code",
   "execution_count": 25,
   "metadata": {
    "collapsed": false
   },
   "outputs": [],
   "source": [
    "custody_by_nationality[\"percent_detained\"] = custody_by_nationality\\\n",
    "    .apply(lambda x: round(100.0 * (x[\"D\"] + x[\"R\"]) / x[\"total\"], 1), axis=1)"
   ]
  },
  {
   "cell_type": "code",
   "execution_count": 28,
   "metadata": {
    "collapsed": false
   },
   "outputs": [
    {
     "data": {
      "text/plain": [
       "NAT_CODE\n",
       "??    UNKNOWN NATIONALITY\n",
       "AB                  ARUBA\n",
       "AC    ANTIGUA AND BARBUDA\n",
       "AF            AFGHANISTAN\n",
       "AG                ALGERIA\n",
       "Name: NAT_NAME, dtype: object"
      ]
     },
     "execution_count": 28,
     "metadata": {},
     "output_type": "execute_result"
    }
   ],
   "source": [
    "nationality_table.set_index(\"NAT_CODE\")[\"NAT_NAME\"].head()"
   ]
  },
  {
   "cell_type": "code",
   "execution_count": 29,
   "metadata": {
    "collapsed": false
   },
   "outputs": [],
   "source": [
    "# Add full country names\n",
    "custody_by_nationality[\"NAT_NAME\"] = custody_by_nationality\\\n",
    "    .join(nationality_table.set_index(\"NAT_CODE\")[[\"NAT_NAME\"]])[\"NAT_NAME\"]"
   ]
  },
  {
   "cell_type": "code",
   "execution_count": 37,
   "metadata": {
    "collapsed": false
   },
   "outputs": [],
   "source": [
    "main_columns = [\"NAT_NAME\", \"N\", \"D\", \"R\", \"total\", \"percent_detained\"]\n",
    "custody_by_nationality = custody_by_nationality.sort_values(\"total\", ascending=False)[main_columns]"
   ]
  },
  {
   "cell_type": "markdown",
   "metadata": {},
   "source": [
    "## Table: Per-Nationality Detention Rate"
   ]
  },
  {
   "cell_type": "code",
   "execution_count": 34,
   "metadata": {
    "collapsed": false
   },
   "outputs": [
    {
     "data": {
      "text/html": [
       "<div>\n",
       "<style scoped>\n",
       "    .dataframe tbody tr th:only-of-type {\n",
       "        vertical-align: middle;\n",
       "    }\n",
       "\n",
       "    .dataframe tbody tr th {\n",
       "        vertical-align: top;\n",
       "    }\n",
       "\n",
       "    .dataframe thead th {\n",
       "        text-align: right;\n",
       "    }\n",
       "</style>\n",
       "<table border=\"1\" class=\"dataframe\">\n",
       "  <thead>\n",
       "    <tr style=\"text-align: right;\">\n",
       "      <th>CUSTODY</th>\n",
       "      <th>N</th>\n",
       "      <th>D</th>\n",
       "      <th>R</th>\n",
       "      <th>total</th>\n",
       "      <th>percent_detained</th>\n",
       "      <th>NAT_NAME</th>\n",
       "    </tr>\n",
       "    <tr>\n",
       "      <th>NAT</th>\n",
       "      <th></th>\n",
       "      <th></th>\n",
       "      <th></th>\n",
       "      <th></th>\n",
       "      <th></th>\n",
       "      <th></th>\n",
       "    </tr>\n",
       "  </thead>\n",
       "  <tbody>\n",
       "    <tr>\n",
       "      <th>FW</th>\n",
       "      <td>0.0</td>\n",
       "      <td>1.0</td>\n",
       "      <td>0.0</td>\n",
       "      <td>1.0</td>\n",
       "      <td>100.0</td>\n",
       "      <td>FRENCH WEST INDIES</td>\n",
       "    </tr>\n",
       "    <tr>\n",
       "      <th>FO</th>\n",
       "      <td>0.0</td>\n",
       "      <td>0.0</td>\n",
       "      <td>1.0</td>\n",
       "      <td>1.0</td>\n",
       "      <td>100.0</td>\n",
       "      <td>FAEROE ISLAND</td>\n",
       "    </tr>\n",
       "    <tr>\n",
       "      <th>??</th>\n",
       "      <td>316.0</td>\n",
       "      <td>3643.0</td>\n",
       "      <td>500.0</td>\n",
       "      <td>4459.0</td>\n",
       "      <td>92.9</td>\n",
       "      <td>UNKNOWN NATIONALITY</td>\n",
       "    </tr>\n",
       "    <tr>\n",
       "      <th>XS</th>\n",
       "      <td>3.0</td>\n",
       "      <td>35.0</td>\n",
       "      <td>3.0</td>\n",
       "      <td>41.0</td>\n",
       "      <td>92.7</td>\n",
       "      <td>SOUTH SUDAN</td>\n",
       "    </tr>\n",
       "    <tr>\n",
       "      <th>NN</th>\n",
       "      <td>40.0</td>\n",
       "      <td>328.0</td>\n",
       "      <td>51.0</td>\n",
       "      <td>419.0</td>\n",
       "      <td>90.5</td>\n",
       "      <td>NO NATIONALITY</td>\n",
       "    </tr>\n",
       "    <tr>\n",
       "      <th>...</th>\n",
       "      <td>...</td>\n",
       "      <td>...</td>\n",
       "      <td>...</td>\n",
       "      <td>...</td>\n",
       "      <td>...</td>\n",
       "      <td>...</td>\n",
       "    </tr>\n",
       "    <tr>\n",
       "      <th>MN</th>\n",
       "      <td>11.0</td>\n",
       "      <td>0.0</td>\n",
       "      <td>0.0</td>\n",
       "      <td>11.0</td>\n",
       "      <td>0.0</td>\n",
       "      <td>MONACO</td>\n",
       "    </tr>\n",
       "    <tr>\n",
       "      <th>BV</th>\n",
       "      <td>1.0</td>\n",
       "      <td>0.0</td>\n",
       "      <td>0.0</td>\n",
       "      <td>1.0</td>\n",
       "      <td>0.0</td>\n",
       "      <td>BOUVET ISLAND</td>\n",
       "    </tr>\n",
       "    <tr>\n",
       "      <th>UV</th>\n",
       "      <td>3.0</td>\n",
       "      <td>0.0</td>\n",
       "      <td>0.0</td>\n",
       "      <td>3.0</td>\n",
       "      <td>0.0</td>\n",
       "      <td>UPPER VOLTA</td>\n",
       "    </tr>\n",
       "    <tr>\n",
       "      <th>TM</th>\n",
       "      <td>2.0</td>\n",
       "      <td>0.0</td>\n",
       "      <td>0.0</td>\n",
       "      <td>2.0</td>\n",
       "      <td>0.0</td>\n",
       "      <td>EAST TIMOR</td>\n",
       "    </tr>\n",
       "    <tr>\n",
       "      <th>CW</th>\n",
       "      <td>1.0</td>\n",
       "      <td>0.0</td>\n",
       "      <td>0.0</td>\n",
       "      <td>1.0</td>\n",
       "      <td>0.0</td>\n",
       "      <td>COOK ISLANDS</td>\n",
       "    </tr>\n",
       "  </tbody>\n",
       "</table>\n",
       "<p>242 rows × 6 columns</p>\n",
       "</div>"
      ],
      "text/plain": [
       "CUSTODY      N       D      R   total  percent_detained             NAT_NAME\n",
       "NAT                                                                         \n",
       "FW         0.0     1.0    0.0     1.0             100.0   FRENCH WEST INDIES\n",
       "FO         0.0     0.0    1.0     1.0             100.0        FAEROE ISLAND\n",
       "??       316.0  3643.0  500.0  4459.0              92.9  UNKNOWN NATIONALITY\n",
       "XS         3.0    35.0    3.0    41.0              92.7          SOUTH SUDAN\n",
       "NN        40.0   328.0   51.0   419.0              90.5       NO NATIONALITY\n",
       "..         ...     ...    ...     ...               ...                  ...\n",
       "MN        11.0     0.0    0.0    11.0               0.0               MONACO\n",
       "BV         1.0     0.0    0.0     1.0               0.0        BOUVET ISLAND\n",
       "UV         3.0     0.0    0.0     3.0               0.0          UPPER VOLTA\n",
       "TM         2.0     0.0    0.0     2.0               0.0           EAST TIMOR\n",
       "CW         1.0     0.0    0.0     1.0               0.0         COOK ISLANDS\n",
       "\n",
       "[242 rows x 6 columns]"
      ]
     },
     "execution_count": 34,
     "metadata": {},
     "output_type": "execute_result"
    }
   ],
   "source": [
    "custody_by_nationality"
   ]
  },
  {
   "cell_type": "code",
   "execution_count": 38,
   "metadata": {},
   "outputs": [],
   "source": [
    "# save to output dataframe\n",
    "custody_by_nationality.to_csv(\"custody_by_nationality.csv\", index=False)"
   ]
  },
  {
   "cell_type": "code",
   "execution_count": null,
   "metadata": {},
   "outputs": [],
   "source": []
  }
 ],
 "metadata": {
  "interpreter": {
   "hash": "1304233b53c6a09342e56de51f78d3eae7e06249fc4ef5cc763f1a26d43de633"
  },
  "kernelspec": {
   "display_name": "Python 2",
   "language": "python",
   "name": "python3"
  },
  "language_info": {
   "codemirror_mode": {
    "name": "ipython",
    "version": 3
   },
   "file_extension": ".py",
   "mimetype": "text/x-python",
   "name": "python",
   "nbconvert_exporter": "python",
   "pygments_lexer": "ipython3",
   "version": "3.8.10"
  }
 },
 "nbformat": 4,
 "nbformat_minor": 0
}
